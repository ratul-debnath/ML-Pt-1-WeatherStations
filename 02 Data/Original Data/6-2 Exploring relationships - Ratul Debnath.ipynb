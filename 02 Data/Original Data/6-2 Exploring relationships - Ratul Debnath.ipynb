{
 "cells": [
  {
   "cell_type": "markdown",
   "id": "a076578e-9b7a-4f1d-8ec2-f870bda39083",
   "metadata": {},
   "source": [
    "# 01 Importing Libraries"
   ]
  },
  {
   "cell_type": "code",
   "execution_count": 18,
   "id": "cbe5e47c-17af-4027-9499-3e7ee96f1d86",
   "metadata": {},
   "outputs": [],
   "source": [
    "import pandas as pd\n",
    "import numpy as np\n",
    "import matplotlib.pyplot as plt\n",
    "import matplotlib\n",
    "import seaborn as sns\n",
    "import scipy\n",
    "from collections import Counter\n",
    "import os"
   ]
  },
  {
   "cell_type": "markdown",
   "id": "0ab04b7e-38c1-423c-a8ef-79569d7562f5",
   "metadata": {},
   "source": [
    "# 02 Importing Dataset"
   ]
  },
  {
   "cell_type": "code",
   "execution_count": 19,
   "id": "900b9547-ab1c-402e-a72b-24ceef2114ce",
   "metadata": {},
   "outputs": [],
   "source": [
    "path = r'C:\\Users\\Ratul\\anaconda_projects\\7-2025 Zomatto Analysis'\n",
    "df = pd.read_csv(os.path.join(path, '02 Data', 'Prepared Data', 'zomato_clean.csv'), index_col = False)"
   ]
  },
  {
   "cell_type": "code",
   "execution_count": 20,
   "id": "b525137b-de60-408c-8619-ad7a1b77467e",
   "metadata": {},
   "outputs": [],
   "source": [
    "#Checking data structure"
   ]
  },
  {
   "cell_type": "code",
   "execution_count": 21,
   "id": "d1917287-4549-42c4-8313-0e8eac91f4d2",
   "metadata": {},
   "outputs": [
    {
     "data": {
      "text/html": [
       "<div>\n",
       "<style scoped>\n",
       "    .dataframe tbody tr th:only-of-type {\n",
       "        vertical-align: middle;\n",
       "    }\n",
       "\n",
       "    .dataframe tbody tr th {\n",
       "        vertical-align: top;\n",
       "    }\n",
       "\n",
       "    .dataframe thead th {\n",
       "        text-align: right;\n",
       "    }\n",
       "</style>\n",
       "<table border=\"1\" class=\"dataframe\">\n",
       "  <thead>\n",
       "    <tr style=\"text-align: right;\">\n",
       "      <th></th>\n",
       "      <th>Unnamed: 0</th>\n",
       "      <th>address</th>\n",
       "      <th>name</th>\n",
       "      <th>online_order</th>\n",
       "      <th>book_table</th>\n",
       "      <th>rate</th>\n",
       "      <th>votes</th>\n",
       "      <th>location</th>\n",
       "      <th>rest_type</th>\n",
       "      <th>dish_liked</th>\n",
       "      <th>cuisines</th>\n",
       "      <th>approx_cost(for two people)</th>\n",
       "      <th>listed_in(type)</th>\n",
       "      <th>listed_in(city)</th>\n",
       "      <th>rating_category</th>\n",
       "    </tr>\n",
       "  </thead>\n",
       "  <tbody>\n",
       "    <tr>\n",
       "      <th>0</th>\n",
       "      <td>0</td>\n",
       "      <td>942, 21st Main Road, 2nd Stage, Banashankari, ...</td>\n",
       "      <td>Jalsa</td>\n",
       "      <td>Yes</td>\n",
       "      <td>Yes</td>\n",
       "      <td>4.1</td>\n",
       "      <td>775</td>\n",
       "      <td>Banashankari</td>\n",
       "      <td>Casual Dining</td>\n",
       "      <td>Pasta, Lunch Buffet, Masala Papad, Paneer Laja...</td>\n",
       "      <td>North Indian, Mughlai, Chinese</td>\n",
       "      <td>800.0</td>\n",
       "      <td>Buffet</td>\n",
       "      <td>Banashankari</td>\n",
       "      <td>High rating</td>\n",
       "    </tr>\n",
       "    <tr>\n",
       "      <th>1</th>\n",
       "      <td>1</td>\n",
       "      <td>2nd Floor, 80 Feet Road, Near Big Bazaar, 6th ...</td>\n",
       "      <td>Spice Elephant</td>\n",
       "      <td>Yes</td>\n",
       "      <td>No</td>\n",
       "      <td>4.1</td>\n",
       "      <td>787</td>\n",
       "      <td>Banashankari</td>\n",
       "      <td>Casual Dining</td>\n",
       "      <td>Momos, Lunch Buffet, Chocolate Nirvana, Thai G...</td>\n",
       "      <td>Chinese, North Indian, Thai</td>\n",
       "      <td>800.0</td>\n",
       "      <td>Buffet</td>\n",
       "      <td>Banashankari</td>\n",
       "      <td>High rating</td>\n",
       "    </tr>\n",
       "    <tr>\n",
       "      <th>2</th>\n",
       "      <td>2</td>\n",
       "      <td>1112, Next to KIMS Medical College, 17th Cross...</td>\n",
       "      <td>San Churro Cafe</td>\n",
       "      <td>Yes</td>\n",
       "      <td>No</td>\n",
       "      <td>3.8</td>\n",
       "      <td>918</td>\n",
       "      <td>Banashankari</td>\n",
       "      <td>Cafe, Casual Dining</td>\n",
       "      <td>Churros, Cannelloni, Minestrone Soup, Hot Choc...</td>\n",
       "      <td>Cafe, Mexican, Italian</td>\n",
       "      <td>800.0</td>\n",
       "      <td>Buffet</td>\n",
       "      <td>Banashankari</td>\n",
       "      <td>Average rating</td>\n",
       "    </tr>\n",
       "    <tr>\n",
       "      <th>3</th>\n",
       "      <td>3</td>\n",
       "      <td>1st Floor, Annakuteera, 3rd Stage, Banashankar...</td>\n",
       "      <td>Addhuri Udupi Bhojana</td>\n",
       "      <td>No</td>\n",
       "      <td>No</td>\n",
       "      <td>3.7</td>\n",
       "      <td>88</td>\n",
       "      <td>Banashankari</td>\n",
       "      <td>Quick Bites</td>\n",
       "      <td>Masala Dosa</td>\n",
       "      <td>South Indian, North Indian</td>\n",
       "      <td>300.0</td>\n",
       "      <td>Buffet</td>\n",
       "      <td>Banashankari</td>\n",
       "      <td>Average rating</td>\n",
       "    </tr>\n",
       "    <tr>\n",
       "      <th>4</th>\n",
       "      <td>4</td>\n",
       "      <td>10, 3rd Floor, Lakshmi Associates, Gandhi Baza...</td>\n",
       "      <td>Grand Village</td>\n",
       "      <td>No</td>\n",
       "      <td>No</td>\n",
       "      <td>3.8</td>\n",
       "      <td>166</td>\n",
       "      <td>Basavanagudi</td>\n",
       "      <td>Casual Dining</td>\n",
       "      <td>Panipuri, Gol Gappe</td>\n",
       "      <td>North Indian, Rajasthani</td>\n",
       "      <td>600.0</td>\n",
       "      <td>Buffet</td>\n",
       "      <td>Banashankari</td>\n",
       "      <td>Average rating</td>\n",
       "    </tr>\n",
       "  </tbody>\n",
       "</table>\n",
       "</div>"
      ],
      "text/plain": [
       "   Unnamed: 0                                            address  \\\n",
       "0           0  942, 21st Main Road, 2nd Stage, Banashankari, ...   \n",
       "1           1  2nd Floor, 80 Feet Road, Near Big Bazaar, 6th ...   \n",
       "2           2  1112, Next to KIMS Medical College, 17th Cross...   \n",
       "3           3  1st Floor, Annakuteera, 3rd Stage, Banashankar...   \n",
       "4           4  10, 3rd Floor, Lakshmi Associates, Gandhi Baza...   \n",
       "\n",
       "                    name online_order book_table  rate  votes      location  \\\n",
       "0                  Jalsa          Yes        Yes   4.1    775  Banashankari   \n",
       "1         Spice Elephant          Yes         No   4.1    787  Banashankari   \n",
       "2        San Churro Cafe          Yes         No   3.8    918  Banashankari   \n",
       "3  Addhuri Udupi Bhojana           No         No   3.7     88  Banashankari   \n",
       "4          Grand Village           No         No   3.8    166  Basavanagudi   \n",
       "\n",
       "             rest_type                                         dish_liked  \\\n",
       "0        Casual Dining  Pasta, Lunch Buffet, Masala Papad, Paneer Laja...   \n",
       "1        Casual Dining  Momos, Lunch Buffet, Chocolate Nirvana, Thai G...   \n",
       "2  Cafe, Casual Dining  Churros, Cannelloni, Minestrone Soup, Hot Choc...   \n",
       "3          Quick Bites                                        Masala Dosa   \n",
       "4        Casual Dining                                Panipuri, Gol Gappe   \n",
       "\n",
       "                         cuisines  approx_cost(for two people)  \\\n",
       "0  North Indian, Mughlai, Chinese                        800.0   \n",
       "1     Chinese, North Indian, Thai                        800.0   \n",
       "2          Cafe, Mexican, Italian                        800.0   \n",
       "3      South Indian, North Indian                        300.0   \n",
       "4        North Indian, Rajasthani                        600.0   \n",
       "\n",
       "  listed_in(type) listed_in(city) rating_category  \n",
       "0          Buffet    Banashankari     High rating  \n",
       "1          Buffet    Banashankari     High rating  \n",
       "2          Buffet    Banashankari  Average rating  \n",
       "3          Buffet    Banashankari  Average rating  \n",
       "4          Buffet    Banashankari  Average rating  "
      ]
     },
     "execution_count": 21,
     "metadata": {},
     "output_type": "execute_result"
    }
   ],
   "source": [
    "df.head()"
   ]
  },
  {
   "cell_type": "code",
   "execution_count": 22,
   "id": "8000f30d-9940-4d1f-a59d-59e69b696fc3",
   "metadata": {},
   "outputs": [
    {
     "data": {
      "text/plain": [
       "(51717, 15)"
      ]
     },
     "execution_count": 22,
     "metadata": {},
     "output_type": "execute_result"
    }
   ],
   "source": [
    "#Get shape of dataset\n",
    "df.shape"
   ]
  },
  {
   "cell_type": "markdown",
   "id": "78ee3f3c-7836-4769-9d73-7c0ee5e113c2",
   "metadata": {},
   "source": [
    "# 03 Cleaning"
   ]
  },
  {
   "cell_type": "code",
   "execution_count": 23,
   "id": "575cb154-332a-4276-9086-978f837691b7",
   "metadata": {},
   "outputs": [],
   "source": [
    "#Changing the rating to numerator only \n",
    "df['rate'] = df['rate'].str.split('/').str[0]"
   ]
  },
  {
   "cell_type": "code",
   "execution_count": 24,
   "id": "b77fc62f-2f0c-4038-bf54-38707867fd53",
   "metadata": {},
   "outputs": [
    {
     "data": {
      "text/html": [
       "<div>\n",
       "<style scoped>\n",
       "    .dataframe tbody tr th:only-of-type {\n",
       "        vertical-align: middle;\n",
       "    }\n",
       "\n",
       "    .dataframe tbody tr th {\n",
       "        vertical-align: top;\n",
       "    }\n",
       "\n",
       "    .dataframe thead th {\n",
       "        text-align: right;\n",
       "    }\n",
       "</style>\n",
       "<table border=\"1\" class=\"dataframe\">\n",
       "  <thead>\n",
       "    <tr style=\"text-align: right;\">\n",
       "      <th></th>\n",
       "      <th>Unnamed: 0</th>\n",
       "      <th>address</th>\n",
       "      <th>name</th>\n",
       "      <th>online_order</th>\n",
       "      <th>book_table</th>\n",
       "      <th>rate</th>\n",
       "      <th>votes</th>\n",
       "      <th>location</th>\n",
       "      <th>rest_type</th>\n",
       "      <th>dish_liked</th>\n",
       "      <th>cuisines</th>\n",
       "      <th>approx_cost(for two people)</th>\n",
       "      <th>listed_in(type)</th>\n",
       "      <th>listed_in(city)</th>\n",
       "      <th>rating_category</th>\n",
       "    </tr>\n",
       "  </thead>\n",
       "  <tbody>\n",
       "    <tr>\n",
       "      <th>0</th>\n",
       "      <td>0</td>\n",
       "      <td>942, 21st Main Road, 2nd Stage, Banashankari, ...</td>\n",
       "      <td>Jalsa</td>\n",
       "      <td>Yes</td>\n",
       "      <td>Yes</td>\n",
       "      <td>4.1</td>\n",
       "      <td>775</td>\n",
       "      <td>Banashankari</td>\n",
       "      <td>Casual Dining</td>\n",
       "      <td>Pasta, Lunch Buffet, Masala Papad, Paneer Laja...</td>\n",
       "      <td>North Indian, Mughlai, Chinese</td>\n",
       "      <td>800.0</td>\n",
       "      <td>Buffet</td>\n",
       "      <td>Banashankari</td>\n",
       "      <td>High rating</td>\n",
       "    </tr>\n",
       "    <tr>\n",
       "      <th>1</th>\n",
       "      <td>1</td>\n",
       "      <td>2nd Floor, 80 Feet Road, Near Big Bazaar, 6th ...</td>\n",
       "      <td>Spice Elephant</td>\n",
       "      <td>Yes</td>\n",
       "      <td>No</td>\n",
       "      <td>4.1</td>\n",
       "      <td>787</td>\n",
       "      <td>Banashankari</td>\n",
       "      <td>Casual Dining</td>\n",
       "      <td>Momos, Lunch Buffet, Chocolate Nirvana, Thai G...</td>\n",
       "      <td>Chinese, North Indian, Thai</td>\n",
       "      <td>800.0</td>\n",
       "      <td>Buffet</td>\n",
       "      <td>Banashankari</td>\n",
       "      <td>High rating</td>\n",
       "    </tr>\n",
       "    <tr>\n",
       "      <th>2</th>\n",
       "      <td>2</td>\n",
       "      <td>1112, Next to KIMS Medical College, 17th Cross...</td>\n",
       "      <td>San Churro Cafe</td>\n",
       "      <td>Yes</td>\n",
       "      <td>No</td>\n",
       "      <td>3.8</td>\n",
       "      <td>918</td>\n",
       "      <td>Banashankari</td>\n",
       "      <td>Cafe, Casual Dining</td>\n",
       "      <td>Churros, Cannelloni, Minestrone Soup, Hot Choc...</td>\n",
       "      <td>Cafe, Mexican, Italian</td>\n",
       "      <td>800.0</td>\n",
       "      <td>Buffet</td>\n",
       "      <td>Banashankari</td>\n",
       "      <td>Average rating</td>\n",
       "    </tr>\n",
       "    <tr>\n",
       "      <th>3</th>\n",
       "      <td>3</td>\n",
       "      <td>1st Floor, Annakuteera, 3rd Stage, Banashankar...</td>\n",
       "      <td>Addhuri Udupi Bhojana</td>\n",
       "      <td>No</td>\n",
       "      <td>No</td>\n",
       "      <td>3.7</td>\n",
       "      <td>88</td>\n",
       "      <td>Banashankari</td>\n",
       "      <td>Quick Bites</td>\n",
       "      <td>Masala Dosa</td>\n",
       "      <td>South Indian, North Indian</td>\n",
       "      <td>300.0</td>\n",
       "      <td>Buffet</td>\n",
       "      <td>Banashankari</td>\n",
       "      <td>Average rating</td>\n",
       "    </tr>\n",
       "    <tr>\n",
       "      <th>4</th>\n",
       "      <td>4</td>\n",
       "      <td>10, 3rd Floor, Lakshmi Associates, Gandhi Baza...</td>\n",
       "      <td>Grand Village</td>\n",
       "      <td>No</td>\n",
       "      <td>No</td>\n",
       "      <td>3.8</td>\n",
       "      <td>166</td>\n",
       "      <td>Basavanagudi</td>\n",
       "      <td>Casual Dining</td>\n",
       "      <td>Panipuri, Gol Gappe</td>\n",
       "      <td>North Indian, Rajasthani</td>\n",
       "      <td>600.0</td>\n",
       "      <td>Buffet</td>\n",
       "      <td>Banashankari</td>\n",
       "      <td>Average rating</td>\n",
       "    </tr>\n",
       "  </tbody>\n",
       "</table>\n",
       "</div>"
      ],
      "text/plain": [
       "   Unnamed: 0                                            address  \\\n",
       "0           0  942, 21st Main Road, 2nd Stage, Banashankari, ...   \n",
       "1           1  2nd Floor, 80 Feet Road, Near Big Bazaar, 6th ...   \n",
       "2           2  1112, Next to KIMS Medical College, 17th Cross...   \n",
       "3           3  1st Floor, Annakuteera, 3rd Stage, Banashankar...   \n",
       "4           4  10, 3rd Floor, Lakshmi Associates, Gandhi Baza...   \n",
       "\n",
       "                    name online_order book_table  rate  votes      location  \\\n",
       "0                  Jalsa          Yes        Yes   4.1    775  Banashankari   \n",
       "1         Spice Elephant          Yes         No   4.1    787  Banashankari   \n",
       "2        San Churro Cafe          Yes         No   3.8    918  Banashankari   \n",
       "3  Addhuri Udupi Bhojana           No         No   3.7     88  Banashankari   \n",
       "4          Grand Village           No         No   3.8    166  Basavanagudi   \n",
       "\n",
       "             rest_type                                         dish_liked  \\\n",
       "0        Casual Dining  Pasta, Lunch Buffet, Masala Papad, Paneer Laja...   \n",
       "1        Casual Dining  Momos, Lunch Buffet, Chocolate Nirvana, Thai G...   \n",
       "2  Cafe, Casual Dining  Churros, Cannelloni, Minestrone Soup, Hot Choc...   \n",
       "3          Quick Bites                                        Masala Dosa   \n",
       "4        Casual Dining                                Panipuri, Gol Gappe   \n",
       "\n",
       "                         cuisines  approx_cost(for two people)  \\\n",
       "0  North Indian, Mughlai, Chinese                        800.0   \n",
       "1     Chinese, North Indian, Thai                        800.0   \n",
       "2          Cafe, Mexican, Italian                        800.0   \n",
       "3      South Indian, North Indian                        300.0   \n",
       "4        North Indian, Rajasthani                        600.0   \n",
       "\n",
       "  listed_in(type) listed_in(city) rating_category  \n",
       "0          Buffet    Banashankari     High rating  \n",
       "1          Buffet    Banashankari     High rating  \n",
       "2          Buffet    Banashankari  Average rating  \n",
       "3          Buffet    Banashankari  Average rating  \n",
       "4          Buffet    Banashankari  Average rating  "
      ]
     },
     "execution_count": 24,
     "metadata": {},
     "output_type": "execute_result"
    }
   ],
   "source": [
    "df.head()"
   ]
  },
  {
   "cell_type": "markdown",
   "id": "842aa697-e22f-47dc-981f-c3e920c07326",
   "metadata": {},
   "source": [
    "#### Changing data type to numeric where applicable"
   ]
  },
  {
   "cell_type": "code",
   "execution_count": 25,
   "id": "1b719240-5e82-4c73-8ad0-88720e34c9d6",
   "metadata": {},
   "outputs": [
    {
     "name": "stdout",
     "output_type": "stream",
     "text": [
      "Unnamed: 0                       int64\n",
      "address                         object\n",
      "name                            object\n",
      "online_order                    object\n",
      "book_table                      object\n",
      "rate                           float64\n",
      "votes                            int64\n",
      "location                        object\n",
      "rest_type                       object\n",
      "dish_liked                      object\n",
      "cuisines                        object\n",
      "approx_cost(for two people)    float64\n",
      "listed_in(type)                 object\n",
      "listed_in(city)                 object\n",
      "rating_category                 object\n",
      "dtype: object\n"
     ]
    }
   ],
   "source": [
    "#Display datatype\n",
    "print(df.dtypes)"
   ]
  },
  {
   "cell_type": "markdown",
   "id": "01535f3f-89fe-442f-b642-efdd2c39a821",
   "metadata": {},
   "source": [
    "Changing 'rate' and 'approx_cost(for two people)' to numeric"
   ]
  },
  {
   "cell_type": "code",
   "execution_count": 29,
   "id": "6e51fec1-6869-4c7b-8ea5-9a4f3e60a869",
   "metadata": {},
   "outputs": [],
   "source": [
    "#Remove any non-numeric characters (like commas in votes)\n",
    "\n",
    "# Handle 'NEW' values by replacing them with NaN\n",
    "df['rate'] = df['rate'].replace('NEW', float('nan'))\n",
    "\n",
    "# Also handle '-' values by replacing them with NaN\n",
    "df['rate'] = df['rate'].replace('-', float('nan'))  # Added this line to handle dash characters\n",
    "\n",
    "# Now convert to float\n",
    "df['rate'] = df['rate'].astype(float)"
   ]
  },
  {
   "cell_type": "code",
   "execution_count": 30,
   "id": "472a9623-5543-4a77-a5f0-c34858b5312d",
   "metadata": {},
   "outputs": [],
   "source": [
    "# Clean and convert 'approx_cost(for two people)' to int\n",
    "df['approx_cost(for two people)'] = df['approx_cost(for two people)'].str.replace(',', '')\n",
    "df['approx_cost(for two people)'] = pd.to_numeric(df['approx_cost(for two people)'], errors='coerce').astype('Int64')"
   ]
  },
  {
   "cell_type": "code",
   "execution_count": 31,
   "id": "79c36a84-5c39-4ee0-9776-b5af72db621e",
   "metadata": {},
   "outputs": [
    {
     "name": "stdout",
     "output_type": "stream",
     "text": [
      "Unnamed: 0                       int64\n",
      "address                         object\n",
      "name                            object\n",
      "online_order                    object\n",
      "book_table                      object\n",
      "rate                           float64\n",
      "votes                            int64\n",
      "location                        object\n",
      "rest_type                       object\n",
      "dish_liked                      object\n",
      "cuisines                        object\n",
      "approx_cost(for two people)    float64\n",
      "listed_in(type)                 object\n",
      "listed_in(city)                 object\n",
      "rating_category                 object\n",
      "dtype: object\n"
     ]
    }
   ],
   "source": [
    "#Display datatype\n",
    "print(df.dtypes)"
   ]
  },
  {
   "cell_type": "markdown",
   "id": "fd35d49e-5035-4910-a339-7c692c478b48",
   "metadata": {},
   "source": [
    "Convert the rest of the datatypes to 'str' to save space and work more efficiently"
   ]
  },
  {
   "cell_type": "code",
   "execution_count": 33,
   "id": "b897d335-41ad-4444-8478-1b5054cefcee",
   "metadata": {},
   "outputs": [],
   "source": [
    "df['address'] = df['address'].astype('string')"
   ]
  },
  {
   "cell_type": "code",
   "execution_count": 34,
   "id": "67515d9c-7e07-4fad-972f-cf100bd441da",
   "metadata": {},
   "outputs": [],
   "source": [
    "df['name'] = df['name'].astype('string')"
   ]
  },
  {
   "cell_type": "code",
   "execution_count": 35,
   "id": "588b0492-2dcd-4c1b-bece-53537d95fd3a",
   "metadata": {},
   "outputs": [],
   "source": [
    "df['online_order'] = df['online_order'].astype('string')"
   ]
  },
  {
   "cell_type": "code",
   "execution_count": 36,
   "id": "91d1933f-ae5e-425d-9bee-bc30d92868df",
   "metadata": {},
   "outputs": [],
   "source": [
    "df['book_table'] = df['book_table'].astype('string')"
   ]
  },
  {
   "cell_type": "code",
   "execution_count": 37,
   "id": "72eb1647-8f65-487b-97e8-763432454a39",
   "metadata": {},
   "outputs": [],
   "source": [
    "df['location'] = df['location'].astype('string')"
   ]
  },
  {
   "cell_type": "code",
   "execution_count": 38,
   "id": "30c01c9b-2a1f-47fe-8313-4f529894cc22",
   "metadata": {},
   "outputs": [],
   "source": [
    "df['rest_type'] = df['rest_type'].astype('string')"
   ]
  },
  {
   "cell_type": "code",
   "execution_count": 39,
   "id": "ee44d54e-886e-4558-949b-6b7fda50544e",
   "metadata": {},
   "outputs": [],
   "source": [
    "df['dish_liked'] = df['dish_liked'].astype('string')"
   ]
  },
  {
   "cell_type": "code",
   "execution_count": 40,
   "id": "b54bc49f-7477-42f3-ac33-76a130e4a89a",
   "metadata": {},
   "outputs": [],
   "source": [
    "df['cuisines'] = df['cuisines'].astype('string')"
   ]
  },
  {
   "cell_type": "code",
   "execution_count": 41,
   "id": "3557cbfb-664b-4a9b-81fb-09c0a1a6111f",
   "metadata": {},
   "outputs": [],
   "source": [
    "df['listed_in(type)'] = df['listed_in(type)'].astype('string')"
   ]
  },
  {
   "cell_type": "code",
   "execution_count": 42,
   "id": "32828651-579b-4a84-a1a9-fd947d080544",
   "metadata": {},
   "outputs": [],
   "source": [
    "df['listed_in(city)'] = df['listed_in(city)'].astype('string')"
   ]
  },
  {
   "cell_type": "markdown",
   "id": "6ca00baa-0514-48d8-95ad-66f4de0a7831",
   "metadata": {},
   "source": [
    "# 04 Simple Stats "
   ]
  },
  {
   "cell_type": "code",
   "execution_count": 43,
   "id": "1ffab8c8-7a45-4684-ba84-419bf8b70c5d",
   "metadata": {},
   "outputs": [
    {
     "data": {
      "text/html": [
       "<div>\n",
       "<style scoped>\n",
       "    .dataframe tbody tr th:only-of-type {\n",
       "        vertical-align: middle;\n",
       "    }\n",
       "\n",
       "    .dataframe tbody tr th {\n",
       "        vertical-align: top;\n",
       "    }\n",
       "\n",
       "    .dataframe thead th {\n",
       "        text-align: right;\n",
       "    }\n",
       "</style>\n",
       "<table border=\"1\" class=\"dataframe\">\n",
       "  <thead>\n",
       "    <tr style=\"text-align: right;\">\n",
       "      <th></th>\n",
       "      <th>Unnamed: 0</th>\n",
       "      <th>rate</th>\n",
       "      <th>votes</th>\n",
       "      <th>approx_cost(for two people)</th>\n",
       "    </tr>\n",
       "  </thead>\n",
       "  <tbody>\n",
       "    <tr>\n",
       "      <th>count</th>\n",
       "      <td>51717.000000</td>\n",
       "      <td>41665.000000</td>\n",
       "      <td>51717.000000</td>\n",
       "      <td>51371.000000</td>\n",
       "    </tr>\n",
       "    <tr>\n",
       "      <th>mean</th>\n",
       "      <td>25858.000000</td>\n",
       "      <td>3.700449</td>\n",
       "      <td>283.697527</td>\n",
       "      <td>555.431566</td>\n",
       "    </tr>\n",
       "    <tr>\n",
       "      <th>std</th>\n",
       "      <td>14929.556273</td>\n",
       "      <td>0.440513</td>\n",
       "      <td>803.838853</td>\n",
       "      <td>438.850728</td>\n",
       "    </tr>\n",
       "    <tr>\n",
       "      <th>min</th>\n",
       "      <td>0.000000</td>\n",
       "      <td>1.800000</td>\n",
       "      <td>0.000000</td>\n",
       "      <td>40.000000</td>\n",
       "    </tr>\n",
       "    <tr>\n",
       "      <th>25%</th>\n",
       "      <td>12929.000000</td>\n",
       "      <td>3.400000</td>\n",
       "      <td>7.000000</td>\n",
       "      <td>300.000000</td>\n",
       "    </tr>\n",
       "    <tr>\n",
       "      <th>50%</th>\n",
       "      <td>25858.000000</td>\n",
       "      <td>3.700000</td>\n",
       "      <td>41.000000</td>\n",
       "      <td>400.000000</td>\n",
       "    </tr>\n",
       "    <tr>\n",
       "      <th>75%</th>\n",
       "      <td>38787.000000</td>\n",
       "      <td>4.000000</td>\n",
       "      <td>198.000000</td>\n",
       "      <td>650.000000</td>\n",
       "    </tr>\n",
       "    <tr>\n",
       "      <th>max</th>\n",
       "      <td>51716.000000</td>\n",
       "      <td>4.900000</td>\n",
       "      <td>16832.000000</td>\n",
       "      <td>6000.000000</td>\n",
       "    </tr>\n",
       "  </tbody>\n",
       "</table>\n",
       "</div>"
      ],
      "text/plain": [
       "         Unnamed: 0          rate         votes  approx_cost(for two people)\n",
       "count  51717.000000  41665.000000  51717.000000                 51371.000000\n",
       "mean   25858.000000      3.700449    283.697527                   555.431566\n",
       "std    14929.556273      0.440513    803.838853                   438.850728\n",
       "min        0.000000      1.800000      0.000000                    40.000000\n",
       "25%    12929.000000      3.400000      7.000000                   300.000000\n",
       "50%    25858.000000      3.700000     41.000000                   400.000000\n",
       "75%    38787.000000      4.000000    198.000000                   650.000000\n",
       "max    51716.000000      4.900000  16832.000000                  6000.000000"
      ]
     },
     "execution_count": 43,
     "metadata": {},
     "output_type": "execute_result"
    }
   ],
   "source": [
    "#Describe\n",
    "df.describe()"
   ]
  },
  {
   "cell_type": "markdown",
   "id": "17a0fff9-fc38-4810-bee7-338ee71b059a",
   "metadata": {},
   "source": [
    "#### i) Count Online Orders vs Other"
   ]
  },
  {
   "cell_type": "code",
   "execution_count": 44,
   "id": "790df7f9-4e2e-49be-bd34-522ac0a44bed",
   "metadata": {},
   "outputs": [
    {
     "data": {
      "text/plain": [
       "online_order\n",
       "Yes    30444\n",
       "No     21273\n",
       "Name: count, dtype: Int64"
      ]
     },
     "execution_count": 44,
     "metadata": {},
     "output_type": "execute_result"
    }
   ],
   "source": [
    "df['online_order'].value_counts()"
   ]
  },
  {
   "cell_type": "markdown",
   "id": "6ab69f4e-9b32-4448-8247-73b43b090639",
   "metadata": {},
   "source": [
    "#### ii) Count Booked table vs Not"
   ]
  },
  {
   "cell_type": "code",
   "execution_count": 45,
   "id": "a50a88d6-eeca-4b8f-8998-2e2bfc466ad8",
   "metadata": {},
   "outputs": [
    {
     "data": {
      "text/plain": [
       "book_table\n",
       "No     45268\n",
       "Yes     6449\n",
       "Name: count, dtype: Int64"
      ]
     },
     "execution_count": 45,
     "metadata": {},
     "output_type": "execute_result"
    }
   ],
   "source": [
    "df['book_table'].value_counts()"
   ]
  },
  {
   "cell_type": "markdown",
   "id": "0025c460-5667-4095-a006-edc6c2315ec3",
   "metadata": {},
   "source": [
    "#### iii) Count Restaurants listed"
   ]
  },
  {
   "cell_type": "code",
   "execution_count": 46,
   "id": "37cfae16-7b92-4b56-9120-cf5f4ab3559c",
   "metadata": {},
   "outputs": [
    {
     "data": {
      "text/plain": [
       "name\n",
       "Cafe Coffee Day                                            96\n",
       "Onesta                                                     85\n",
       "Just Bake                                                  73\n",
       "Empire Restaurant                                          71\n",
       "Five Star Chicken                                          70\n",
       "                                                           ..\n",
       "Homies                                                      1\n",
       "Jai Bhavani Savaji Hotel                                    1\n",
       "Angel's Kitchen                                             1\n",
       "Hunan Express                                               1\n",
       "Plunge - Sheraton Grand Bengaluru Whitefield Hotel &...     1\n",
       "Name: count, Length: 8792, dtype: Int64"
      ]
     },
     "execution_count": 46,
     "metadata": {},
     "output_type": "execute_result"
    }
   ],
   "source": [
    "df['name'].value_counts()"
   ]
  },
  {
   "cell_type": "markdown",
   "id": "bb9c43db-aa36-4a82-9e1c-4c5c09e0c5b0",
   "metadata": {},
   "source": [
    "#### iv) Find the most common cuisines"
   ]
  },
  {
   "cell_type": "code",
   "execution_count": 47,
   "id": "2ebb7d7f-48c1-4140-975a-ac4148c03fb7",
   "metadata": {},
   "outputs": [
    {
     "name": "stdout",
     "output_type": "stream",
     "text": [
      "          Cuisine  Count\n",
      "0    North Indian  21085\n",
      "2         Chinese  15547\n",
      "7    South Indian   8644\n",
      "14      Fast Food   8096\n",
      "21        Biryani   6492\n",
      "..            ...    ...\n",
      "106        Sindhi      4\n",
      "99      Pan Asian      3\n",
      "93       Hot dogs      3\n",
      "73         Indian      2\n",
      "105       Malwani      2\n",
      "\n",
      "[107 rows x 2 columns]\n"
     ]
    }
   ],
   "source": [
    "#Drop missing values and split cuisines by comma\n",
    "cuisine_series = df['cuisines'].dropna().apply(lambda x: [c.strip() for c in x.split(',')])\n",
    "\n",
    "#Flatten the list and count each cuisine\n",
    "cuisine_counts = Counter([cuisine for sublist in cuisine_series for cuisine in sublist])\n",
    "\n",
    "#Convert to DataFrame and sort by count\n",
    "cuisine_df = pd.DataFrame(cuisine_counts.items(), columns=['Cuisine', 'Count']).sort_values(by='Count', ascending=False)\n",
    "\n",
    "# Display the result\n",
    "print(cuisine_df)"
   ]
  },
  {
   "cell_type": "markdown",
   "id": "357de112-4498-4360-be98-b664a8656038",
   "metadata": {},
   "source": [
    "#### v) Find the location with most restaurants"
   ]
  },
  {
   "cell_type": "code",
   "execution_count": 48,
   "id": "57a13585-1ff4-45cc-8dd1-44b28fca7f49",
   "metadata": {},
   "outputs": [
    {
     "data": {
      "text/plain": [
       "location\n",
       "BTM                      5124\n",
       "HSR                      2523\n",
       "Koramangala 5th Block    2504\n",
       "JP Nagar                 2235\n",
       "Whitefield               2144\n",
       "                         ... \n",
       "West Bangalore              6\n",
       "Yelahanka                   6\n",
       "Jakkur                      3\n",
       "Rajarajeshwari Nagar        2\n",
       "Peenya                      1\n",
       "Name: count, Length: 93, dtype: Int64"
      ]
     },
     "execution_count": 48,
     "metadata": {},
     "output_type": "execute_result"
    }
   ],
   "source": [
    "df['location'].value_counts()"
   ]
  },
  {
   "cell_type": "markdown",
   "id": "e6dd94c8-11ad-4eb2-8c39-73adaf63fa6b",
   "metadata": {},
   "source": [
    "# 04 Exploring Relationships"
   ]
  },
  {
   "cell_type": "markdown",
   "id": "b396c93c-6019-428a-a530-e71398c78e2f",
   "metadata": {},
   "source": [
    "#### Using corr() tool to find correlationships"
   ]
  },
  {
   "cell_type": "code",
   "execution_count": 49,
   "id": "b8a8b35b-02b1-417f-80d6-abaa52d8a55c",
   "metadata": {},
   "outputs": [
    {
     "data": {
      "text/html": [
       "<div>\n",
       "<style scoped>\n",
       "    .dataframe tbody tr th:only-of-type {\n",
       "        vertical-align: middle;\n",
       "    }\n",
       "\n",
       "    .dataframe tbody tr th {\n",
       "        vertical-align: top;\n",
       "    }\n",
       "\n",
       "    .dataframe thead th {\n",
       "        text-align: right;\n",
       "    }\n",
       "</style>\n",
       "<table border=\"1\" class=\"dataframe\">\n",
       "  <thead>\n",
       "    <tr style=\"text-align: right;\">\n",
       "      <th></th>\n",
       "      <th>Unnamed: 0</th>\n",
       "      <th>rate</th>\n",
       "      <th>votes</th>\n",
       "      <th>approx_cost(for two people)</th>\n",
       "    </tr>\n",
       "  </thead>\n",
       "  <tbody>\n",
       "    <tr>\n",
       "      <th>Unnamed: 0</th>\n",
       "      <td>1.000000</td>\n",
       "      <td>0.023985</td>\n",
       "      <td>0.026893</td>\n",
       "      <td>0.054732</td>\n",
       "    </tr>\n",
       "    <tr>\n",
       "      <th>rate</th>\n",
       "      <td>0.023985</td>\n",
       "      <td>1.000000</td>\n",
       "      <td>0.434040</td>\n",
       "      <td>0.385183</td>\n",
       "    </tr>\n",
       "    <tr>\n",
       "      <th>votes</th>\n",
       "      <td>0.026893</td>\n",
       "      <td>0.434040</td>\n",
       "      <td>1.000000</td>\n",
       "      <td>0.381804</td>\n",
       "    </tr>\n",
       "    <tr>\n",
       "      <th>approx_cost(for two people)</th>\n",
       "      <td>0.054732</td>\n",
       "      <td>0.385183</td>\n",
       "      <td>0.381804</td>\n",
       "      <td>1.000000</td>\n",
       "    </tr>\n",
       "  </tbody>\n",
       "</table>\n",
       "</div>"
      ],
      "text/plain": [
       "                             Unnamed: 0      rate     votes  \\\n",
       "Unnamed: 0                     1.000000  0.023985  0.026893   \n",
       "rate                           0.023985  1.000000  0.434040   \n",
       "votes                          0.026893  0.434040  1.000000   \n",
       "approx_cost(for two people)    0.054732  0.385183  0.381804   \n",
       "\n",
       "                             approx_cost(for two people)  \n",
       "Unnamed: 0                                      0.054732  \n",
       "rate                                            0.385183  \n",
       "votes                                           0.381804  \n",
       "approx_cost(for two people)                     1.000000  "
      ]
     },
     "execution_count": 49,
     "metadata": {},
     "output_type": "execute_result"
    }
   ],
   "source": [
    "# Create a correlation matrix using pandas\n",
    "\n",
    "# First, identify and convert categorical columns to numeric\n",
    "# For columns with 'Yes'/'No' values, we can map them to 1/0\n",
    "# Example conversion (adjust according to your actual data)\n",
    "df_numeric = df.copy()\n",
    "\n",
    "# For each column that might have 'Yes'/'No' values\n",
    "for col in df.select_dtypes(include=['object']).columns:\n",
    "    # Check if the column contains 'Yes' values\n",
    "    if 'Yes' in df[col].values:\n",
    "        # Convert 'Yes' to 1 and everything else to 0\n",
    "        df_numeric[col] = df[col].map({'Yes': 1, 'No': 0})\n",
    "        # If there are other values, you might need a more complex mapping\n",
    "\n",
    "# Drop any remaining non-numeric columns\n",
    "df_numeric = df_numeric.select_dtypes(include=['number'])\n",
    "\n",
    "# Now create the correlation matrix\n",
    "correlation_matrix = df_numeric.corr()\n",
    "correlation_matrix"
   ]
  },
  {
   "cell_type": "code",
   "execution_count": 50,
   "id": "a7430ca1-bf89-4586-8d1c-47fc6f9f7951",
   "metadata": {},
   "outputs": [
    {
     "data": {
      "image/png": "[encoded data removed]",
      "text/plain": [
       "<Figure size 800x800 with 2 Axes>"
      ]
     },
     "metadata": {},
     "output_type": "display_data"
    }
   ],
   "source": [
    "f = plt.figure(figsize=(8, 8))  # figure size \n",
    "\n",
    "# Calculate correlation matrix explicitly first\n",
    "corr_matrix = df_numeric.corr()\n",
    "\n",
    "# Replace NaN values with 0 to avoid ambiguity errors\n",
    "corr_matrix = corr_matrix.fillna(0)\n",
    "\n",
    "# Plot the correlation matrix using imshow instead of matshow for better compatibility\n",
    "plt.imshow(corr_matrix, cmap='coolwarm', vmin=-1, vmax=1)  # type of plot with explicit color range\n",
    "\n",
    "# Add axis labels\n",
    "plt.xticks(range(df_numeric.shape[1]), df_numeric.columns, fontsize=14, rotation=45)  # x axis labels\n",
    "plt.yticks(range(df_numeric.shape[1]), df_numeric.columns, fontsize=14)  # y axis labels\n",
    "\n",
    "# Add colorbar and title\n",
    "cb = plt.colorbar()  # add a colour legend (called colorbar)\n",
    "cb.ax.tick_params(labelsize=14)  # add font size\n",
    "plt.title('Correlation Matrix', fontsize=14)  # add title\n",
    "\n",
    "# Display the plot\n",
    "plt.tight_layout()  # Adjust layout to make room for rotated x-axis labels\n",
    "plt.show()  # Explicitly show the plot"
   ]
  },
  {
   "cell_type": "code",
   "execution_count": 51,
   "id": "094ba89a-146d-44e3-ba68-5d909b8bfd10",
   "metadata": {},
   "outputs": [
    {
     "data": {
      "image/png": "[encoded data removed]",
      "text/plain": [
       "<Figure size 1000x1000 with 2 Axes>"
      ]
     },
     "metadata": {},
     "output_type": "display_data"
    }
   ],
   "source": [
    "# Create a subplot with matplotlib\n",
    "f,ax = plt.subplots(figsize=(10,10))\n",
    "\n",
    "# Create the correlation heatmap in seaborn by applying a heatmap onto the correlation matrix and the subplots defined above.\n",
    "corr = sns.heatmap(corr_matrix.corr(), annot = True, ax = ax) # The `annot` argument allows the plot to \n",
    "#place the correlation coefficients onto the heatmap."
   ]
  },
  {
   "cell_type": "code",
   "execution_count": 52,
   "id": "f5ea6467-38bf-435c-8e87-3bb20edba132",
   "metadata": {},
   "outputs": [
    {
     "data": {
      "image/png": "[encoded data removed]",
      "text/plain": [
       "<Figure size 1000x1000 with 20 Axes>"
      ]
     },
     "metadata": {},
     "output_type": "display_data"
    }
   ],
   "source": [
    "# Create a pair plot \n",
    "g = sns.pairplot(corr_matrix)"
   ]
  },
  {
   "cell_type": "code",
   "execution_count": 53,
   "id": "0cab3bfb-247b-45e5-9c02-2962680cdc75",
   "metadata": {},
   "outputs": [],
   "source": [
    "df.loc[df['rate'] < 3.5, 'rating_category'] = 'Low rating'\n",
    "df.loc[(df['rate'] >= 3.5) & (df['rate'] < 4), 'rating_category'] = 'Average rating'\n",
    "df.loc[df['rate'] >= 4, 'rating_category'] = 'High rating'"
   ]
  },
  {
   "cell_type": "code",
   "execution_count": 54,
   "id": "584bd83e-f217-4ea4-87c2-144d9710de2f",
   "metadata": {},
   "outputs": [
    {
     "data": {
      "text/plain": [
       "rating_category\n",
       "Average rating    17766\n",
       "High rating       12399\n",
       "Low rating        11500\n",
       "NaN               10052\n",
       "Name: count, dtype: int64"
      ]
     },
     "execution_count": 54,
     "metadata": {},
     "output_type": "execute_result"
    }
   ],
   "source": [
    "df['rating_category'].value_counts(dropna = False)"
   ]
  },
  {
   "cell_type": "code",
   "execution_count": null,
   "id": "c9e11018-a3cb-42de-bb5e-0e1363f421ac",
   "metadata": {},
   "outputs": [],
   "source": [
    "# Create a categorical plot in seaborn using the price categories created above\n",
    "\n",
    "sns.set(style=\"ticks\")\n",
    "g = sns.catplot(y=\"approx_cost(for two people)\", x=\"votes\", hue=\"rating_category\", data=df)"
   ]
  },
  {
   "cell_type": "code",
   "execution_count": null,
   "id": "6ef1e1ea-2229-47ba-8b25-70c97a9509b0",
   "metadata": {},
   "outputs": [],
   "source": [
    "# since the chart is not too legible, and there are a lot of values in the x-axis, will try the same with a scatter plot for better readability"
   ]
  },
  {
   "cell_type": "code",
   "execution_count": null,
   "id": "e1dfbf25-95bb-4864-bf31-29f86e74c836",
   "metadata": {},
   "outputs": [],
   "source": [
    "plt.figure(figsize=(9, 6))\n",
    "sns.scatterplot(\n",
    "    data=df,\n",
    "    x='votes',\n",
    "    y='approx_cost(for two people)',\n",
    "    hue='rating_category',\n",
    "    alpha=0.6,\n",
    "    s=30  # marker size\n",
    ")\n",
    "\n",
    "plt.xlabel('Votes', fontsize=12)\n",
    "plt.ylabel('Approx. Cost (for Two People)', fontsize=12)\n",
    "plt.title('Votes vs Approx. Cost by Rating Category', fontsize=14)\n",
    "plt.xticks(fontsize=10)\n",
    "plt.yticks(fontsize=10)\n",
    "plt.legend(title='Rating Category')\n",
    "plt.tight_layout()\n",
    "plt.show()"
   ]
  },
  {
   "cell_type": "code",
   "execution_count": null,
   "id": "50a3534b-5b88-4afe-98a1-122498c8b17a",
   "metadata": {},
   "outputs": [],
   "source": [
    "df.to_csv(os.path.join(path, '02 Data','Prepared Data', 'zomato_clean.csv'))"
   ]
  },
  {
   "cell_type": "code",
   "execution_count": null,
   "id": "fa088569-4675-46e1-bd96-27638bd1934d",
   "metadata": {},
   "outputs": [],
   "source": []
  }
 ],
 "metadata": {
  "kernelspec": {
   "display_name": "Python [conda env:base] *",
   "language": "python",
   "name": "conda-base-py"
  },
  "language_info": {
   "codemirror_mode": {
    "name": "ipython",
    "version": 3
   },
   "file_extension": ".py",
   "mimetype": "text/x-python",
   "name": "python",
   "nbconvert_exporter": "python",
   "pygments_lexer": "ipython3",
   "version": "3.12.11"
  }
 },
 "nbformat": 4,
 "nbformat_minor": 5
}
