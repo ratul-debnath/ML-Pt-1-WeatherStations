{
 "cells": [
  {
   "cell_type": "code",
   "execution_count": 1,
   "id": "12942c1c",
   "metadata": {},
   "outputs": [],
   "source": [
    "from numpy import arange\n",
    "from matplotlib import pyplot\n",
    "from numpy import asarray\n",
    "from numpy.random import rand"
   ]
  },
  {
   "cell_type": "code",
   "execution_count": 2,
   "id": "4985f061",
   "metadata": {},
   "outputs": [],
   "source": [
    "#objective function\n",
    "def objective(x):\n",
    "    return x**2.0"
   ]
  },
  {
   "cell_type": "code",
   "execution_count": 3,
   "id": "851b7644",
   "metadata": {},
   "outputs": [],
   "source": [
    "#derivative of objective function\n",
    "def derivative(x):\n",
    "    return x * 2.0"
   ]
  },
  {
   "cell_type": "code",
   "execution_count": 4,
   "id": "fd485f7a",
   "metadata": {},
   "outputs": [],
   "source": [
    "#define range for input\n",
    "r_min, r_max = -10.0, 10.0"
   ]
  },
  {
   "cell_type": "code",
   "execution_count": 5,
   "id": "43f49eb6",
   "metadata": {},
   "outputs": [],
   "source": [
    "#sample input range uniformly at 0.1 increments\n",
    "inputs = arange(r_min, r_max+0.1, 0.1)"
   ]
  },
  {
   "cell_type": "code",
   "execution_count": 6,
   "id": "86871945",
   "metadata": {},
   "outputs": [],
   "source": [
    "#compute targets\n",
    "results = objective(inputs)"
   ]
  },
  {
   "cell_type": "code",
   "execution_count": 7,
   "id": "71b5337b",
   "metadata": {},
   "outputs": [
    {
     "data": {
      "image/png": "[encoded data removed]",
      "text/plain": [
       "<Figure size 432x288 with 1 Axes>"
      ]
     },
     "metadata": {
      "needs_background": "light"
     },
     "output_type": "display_data"
    }
   ],
   "source": [
    "#create a line plot of input vs result\n",
    "pyplot.plot(inputs, results)\n",
    "pyplot.ylabel('y')\n",
    "pyplot.xlabel('X')\n",
    "pyplot.rc('font', size=16)\n",
    "pyplot.grid()\n",
    "# show the plot\n",
    "pyplot.show()"
   ]
  },
  {
   "cell_type": "code",
   "execution_count": 8,
   "id": "2ec5ee86",
   "metadata": {},
   "outputs": [],
   "source": [
    "# gradient descent algorithm\n",
    "def gradient_descent(objective, derivative, bounds, n_iter, step_size):\n",
    "    # track all solutions\n",
    "    solutions, scores = list(), list()\n",
    "    # generate an initial point\n",
    "    solution = 10\n",
    "    # run the gradient descent\n",
    "    for i in range(n_iter):\n",
    "        # calculate gradient\n",
    "        gradient = derivative(solution)\n",
    "        # take a step\n",
    "        solution = solution - step_size * gradient\n",
    "        # evaluate candidate point\n",
    "        solution_eval = objective(solution)\n",
    "        # store solution\n",
    "        solutions.append(solution)\n",
    "        scores.append(solution_eval)\n",
    "        # report progress\n",
    "        print('>%d f(%s) = %.5f' % (i, solution, solution_eval))\n",
    "    return [solutions, scores]"
   ]
  },
  {
   "cell_type": "code",
   "execution_count": 9,
   "id": "6bec2fb3",
   "metadata": {},
   "outputs": [],
   "source": [
    "# define range for input\n",
    "bounds = asarray([[-10.0, 10.0]])"
   ]
  },
  {
   "cell_type": "code",
   "execution_count": 10,
   "id": "8585f375",
   "metadata": {},
   "outputs": [],
   "source": [
    "# define the total iterations\n",
    "n_iter = 30\n",
    "# define the step size\n",
    "step_size = 0.2"
   ]
  },
  {
   "cell_type": "code",
   "execution_count": 11,
   "id": "6068c6e7",
   "metadata": {},
   "outputs": [
    {
     "name": "stdout",
     "output_type": "stream",
     "text": [
      ">0 f(6.0) = 36.00000\n",
      ">1 f(3.5999999999999996) = 12.96000\n",
      ">2 f(2.1599999999999997) = 4.66560\n",
      ">3 f(1.2959999999999998) = 1.67962\n",
      ">4 f(0.7775999999999998) = 0.60466\n",
      ">5 f(0.46655999999999986) = 0.21768\n",
      ">6 f(0.2799359999999999) = 0.07836\n",
      ">7 f(0.16796159999999993) = 0.02821\n",
      ">8 f(0.10077695999999996) = 0.01016\n",
      ">9 f(0.06046617599999997) = 0.00366\n",
      ">10 f(0.036279705599999976) = 0.00132\n",
      ">11 f(0.021767823359999987) = 0.00047\n",
      ">12 f(0.013060694015999992) = 0.00017\n",
      ">13 f(0.007836416409599995) = 0.00006\n",
      ">14 f(0.004701849845759997) = 0.00002\n",
      ">15 f(0.002821109907455998) = 0.00001\n",
      ">16 f(0.0016926659444735988) = 0.00000\n",
      ">17 f(0.0010155995666841593) = 0.00000\n",
      ">18 f(0.0006093597400104956) = 0.00000\n",
      ">19 f(0.0003656158440062973) = 0.00000\n",
      ">20 f(0.0002193695064037784) = 0.00000\n",
      ">21 f(0.00013162170384226703) = 0.00000\n",
      ">22 f(7.897302230536021e-05) = 0.00000\n",
      ">23 f(4.7383813383216124e-05) = 0.00000\n",
      ">24 f(2.8430288029929674e-05) = 0.00000\n",
      ">25 f(1.7058172817957805e-05) = 0.00000\n",
      ">26 f(1.0234903690774682e-05) = 0.00000\n",
      ">27 f(6.1409422144648085e-06) = 0.00000\n",
      ">28 f(3.684565328678885e-06) = 0.00000\n",
      ">29 f(2.210739197207331e-06) = 0.00000\n"
     ]
    }
   ],
   "source": [
    "# perform the gradient descent search\n",
    "solutions, scores = gradient_descent(objective, derivative, bounds, n_iter, step_size)"
   ]
  },
  {
   "cell_type": "code",
   "execution_count": 12,
   "id": "c2783f37",
   "metadata": {},
   "outputs": [],
   "source": [
    "# sample input range uniformly at 0.1 increments\n",
    "inputs = arange(bounds[0,0], bounds[0,1]+0.1, 0.1)\n",
    "# compute targets\n",
    "results = objective(inputs)"
   ]
  },
  {
   "cell_type": "code",
   "execution_count": 13,
   "id": "5a77e5fc",
   "metadata": {},
   "outputs": [
    {
     "data": {
      "image/png": "[encoded data removed]",
      "text/plain": [
       "<Figure size 432x288 with 1 Axes>"
      ]
     },
     "metadata": {
      "needs_background": "light"
     },
     "output_type": "display_data"
    }
   ],
   "source": [
    "# create a line plot of input vs result\n",
    "pyplot.plot(inputs, results)\n",
    "# plot the solutions found\n",
    "pyplot.plot(solutions, scores, '.-', color='green')\n",
    "pyplot.ylabel('y')\n",
    "pyplot.xlabel('X')\n",
    "pyplot.rc('font', size=16)\n",
    "pyplot.grid()\n",
    "# show the plot\n",
    "pyplot.show()"
   ]
  },
  {
   "cell_type": "code",
   "execution_count": 14,
   "id": "36d7ef72",
   "metadata": {},
   "outputs": [],
   "source": [
    "#objective function\n",
    "def objective2(x):\n",
    "    return 4*x**4.0+32*x**3+10*x**2+1"
   ]
  },
  {
   "cell_type": "code",
   "execution_count": 15,
   "id": "b3db1672",
   "metadata": {},
   "outputs": [],
   "source": [
    "#derivative of objective function\n",
    "def derivative2(x):\n",
    "    return 16*x**3.0+96*x**2+20*x"
   ]
  },
  {
   "cell_type": "code",
   "execution_count": 16,
   "id": "111ee937",
   "metadata": {},
   "outputs": [],
   "source": [
    "#define range for input\n",
    "r_min2, r_max2 = -10, 5"
   ]
  },
  {
   "cell_type": "code",
   "execution_count": 17,
   "id": "c905de2b",
   "metadata": {},
   "outputs": [],
   "source": [
    "#sample input range uniformly at 0.1 increments\n",
    "inputs2 = arange(r_min2, r_max2+0.1, 0.1)"
   ]
  },
  {
   "cell_type": "code",
   "execution_count": 18,
   "id": "51613921",
   "metadata": {},
   "outputs": [],
   "source": [
    "#compute targets\n",
    "results2 = objective2(inputs2)"
   ]
  },
  {
   "cell_type": "code",
   "execution_count": 19,
   "id": "5b6c6cd0",
   "metadata": {},
   "outputs": [
    {
     "data": {
      "image/png": "[encoded data removed]",
      "text/plain": [
       "<Figure size 432x288 with 1 Axes>"
      ]
     },
     "metadata": {
      "needs_background": "light"
     },
     "output_type": "display_data"
    }
   ],
   "source": [
    "#create a line plot of input vs result\n",
    "pyplot.plot(inputs2, results2)\n",
    "pyplot.ylabel('y')\n",
    "pyplot.xlabel('X')\n",
    "pyplot.rc('font', size=16)\n",
    "pyplot.grid()\n",
    "# show the plot\n",
    "pyplot.show()"
   ]
  },
  {
   "cell_type": "code",
   "execution_count": 26,
   "id": "37e708a8",
   "metadata": {},
   "outputs": [],
   "source": [
    "# gradient descent algorithm\n",
    "def gradient_descent2(objective, derivative, bounds, n_iter, step_size):\n",
    "    # track all solutions\n",
    "    solutions, scores = list(), list()\n",
    "    # generate an initial point\n",
    "    solution = -1\n",
    "    # run the gradient descent\n",
    "    for i in range(n_iter):\n",
    "        # calculate gradient\n",
    "        gradient = derivative(solution)\n",
    "        # take a step\n",
    "        solution = solution - step_size * gradient\n",
    "        # evaluate candidate point\n",
    "        solution_eval = objective(solution)\n",
    "        # store solution\n",
    "        solutions.append(solution)\n",
    "        scores.append(solution_eval)\n",
    "        # report progress\n",
    "        print('>%d f(%s) = %.5f' % (i, solution, solution_eval))\n",
    "    return [solutions, scores]"
   ]
  },
  {
   "cell_type": "code",
   "execution_count": 27,
   "id": "e3424524",
   "metadata": {},
   "outputs": [],
   "source": [
    "# define range for input\n",
    "bounds2 = asarray([[-10, 5]])"
   ]
  },
  {
   "cell_type": "code",
   "execution_count": 38,
   "id": "f658f2e2",
   "metadata": {},
   "outputs": [],
   "source": [
    "# define the total iterations\n",
    "n_iter2 = 50\n",
    "# define the step size\n",
    "step_size2 = 0.009"
   ]
  },
  {
   "cell_type": "code",
   "execution_count": 39,
   "id": "2fb04263",
   "metadata": {},
   "outputs": [
    {
     "name": "stdout",
     "output_type": "stream",
     "text": [
      ">0 f(-1.54) = -69.65850\n",
      ">1 f(-2.7859363839999998) = -372.35792\n",
      ">2 f(-5.876658260932736) = -1377.38664\n",
      ">3 f(-5.432245170880272) = -1350.36883\n",
      ">4 f(-6.86702287742467) = -994.96871\n",
      ">5 f(0.25652927624890687) = 2.21560\n",
      ">6 f(0.1510655908753138) = 1.34061\n",
      ">7 f(0.1036601710078746) = 1.14356\n",
      ">8 f(0.07555689005257654) = 1.07102\n",
      ">9 f(0.056962095627179285) = 1.03840\n",
      ">10 f(0.043878899976041996) = 1.02197\n",
      ">11 f(0.03430502329437611) = 1.01307\n",
      ">12 f(0.027107520514080153) = 1.00799\n",
      ">13 f(0.02159041600778674) = 1.00498\n",
      ">14 f(0.017299941670227005) = 1.00316\n",
      ">15 f(0.013926621769610393) = 1.00203\n",
      ">16 f(0.01125186740971279) = 1.00131\n",
      ">17 f(0.00911693983713914) = 1.00086\n",
      ">18 f(0.007403967081614098) = 1.00056\n",
      ">19 f(0.006023831179307269) = 1.00037\n",
      ">20 f(0.004908158518581099) = 1.00024\n",
      ">21 f(0.004003859181699159) = 1.00016\n",
      ">22 f(0.0032693045987612014) = 1.00011\n",
      ">23 f(0.002671590002511648) = 1.00007\n",
      ">24 f(0.002184534348566183) = 1.00005\n",
      ">25 f(0.0017871934921857647) = 1.00003\n",
      ">26 f(0.0014627381732422772) = 1.00002\n",
      ">27 f(0.0011975962344244718) = 1.00001\n",
      ">28 f(0.0009807894843444367) = 1.00001\n",
      ">29 f(0.0008034161182200878) = 1.00001\n",
      ">30 f(0.0006582434497393551) = 1.00000\n",
      ">31 f(0.0005393852299611107) = 1.00000\n",
      ">32 f(0.0004420444968983266) = 1.00000\n",
      ">33 f(0.0003623076465349704) = 1.00000\n",
      ">34 f(0.0002969788487684257) = 1.00000\n",
      ">35 f(0.00024344645049715645) = 1.00000\n",
      ">36 f(0.00019957488135545582) = 1.00000\n",
      ">37 f(0.00016361698833166063) = 1.00000\n",
      ">38 f(0.00013414280007292132) = 1.00000\n",
      ">39 f(0.00010998154864494658) = 1.00000\n",
      ">40 f(9.017441880422804e-05) = 1.00000\n",
      ">41 f(7.393599776198251e-05) = 1.00000\n",
      ">42 f(6.0622795023179664e-05) = 1.00000\n",
      ">43 f(4.970751658041384e-05) = 1.00000\n",
      ">44 f(4.075802877490862e-05) = 1.00000\n",
      ">45 f(3.342014829426522e-05) = 1.00000\n",
      ">46 f(2.7403556588868793e-05) = 1.00000\n",
      ">47 f(2.2470267574863606e-05) = 1.00000\n",
      ">48 f(1.84251831649873e-05) = 1.00000\n",
      ">49 f(1.5108356877297142e-05) = 1.00000\n"
     ]
    }
   ],
   "source": [
    "# perform the gradient descent search\n",
    "solutions2, scores2 = gradient_descent2(objective2, derivative2, bounds2, n_iter2, step_size2)"
   ]
  },
  {
   "cell_type": "code",
   "execution_count": 40,
   "id": "ebb9cded",
   "metadata": {},
   "outputs": [],
   "source": [
    "# sample input range uniformly at 0.1 increments\n",
    "inputs2 = arange(bounds2[0,0], bounds2[0,1]+0.1, 0.1)\n",
    "# compute targets\n",
    "results2 = objective2(inputs2)"
   ]
  },
  {
   "cell_type": "code",
   "execution_count": 41,
   "id": "8eecc49d",
   "metadata": {},
   "outputs": [
    {
     "data": {
      "image/png": "[encoded data removed]",
      "text/plain": [
       "<Figure size 432x288 with 1 Axes>"
      ]
     },
     "metadata": {
      "needs_background": "light"
     },
     "output_type": "display_data"
    }
   ],
   "source": [
    "# create a line plot of input vs result\n",
    "pyplot.plot(inputs2, results2)\n",
    "# plot the solutions found\n",
    "pyplot.plot(solutions2, scores2, '.-', color='green')\n",
    "pyplot.ylabel('y')\n",
    "pyplot.xlabel('X')\n",
    "pyplot.rc('font', size=16)\n",
    "pyplot.grid()\n",
    "# show the plot\n",
    "pyplot.show()"
   ]
  }
 ],
 "metadata": {
  "kernelspec": {
   "display_name": "Python [conda env:base] *",
   "language": "python",
   "name": "conda-base-py"
  },
  "language_info": {
   "codemirror_mode": {
    "name": "ipython",
    "version": 3
   },
   "file_extension": ".py",
   "mimetype": "text/x-python",
   "name": "python",
   "nbconvert_exporter": "python",
   "pygments_lexer": "ipython3",
   "version": "3.12.11"
  }
 },
 "nbformat": 4,
 "nbformat_minor": 5
}
